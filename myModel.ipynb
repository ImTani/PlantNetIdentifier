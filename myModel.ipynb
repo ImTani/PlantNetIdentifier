{
 "cells": [
  {
   "cell_type": "code",
   "execution_count": 22,
   "metadata": {},
   "outputs": [],
   "source": [
    "import matplotlib.pyplot as plt\n",
    "import numpy as np\n",
    "import PIL\n",
    "import tensorflow as tf\n",
    "\n",
    "from tensorflow import keras\n",
    "from tensorflow.keras import layers\n",
    "from tensorflow.keras.models import Sequential"
   ]
  },
  {
   "cell_type": "code",
   "execution_count": null,
   "metadata": {},
   "outputs": [],
   "source": [
    "import pathlib\n",
    "dataset_url = \"https://storage.googleapis.com/download.tensorflow.org/example_images/flower_photos.tgz\"\n",
    "data_dir = tf.keras.utils.get_file('flower_photos', origin=dataset_url, untar=True)\n",
    "data_dir = pathlib.Path(data_dir)"
   ]
  },
  {
   "cell_type": "code",
   "execution_count": 24,
   "metadata": {},
   "outputs": [
    {
     "name": "stdout",
     "output_type": "stream",
     "text": [
      "3670\n"
     ]
    }
   ],
   "source": [
    "image_count = len(list(data_dir.glob('*/*.jpg')))\n",
    "print(image_count)"
   ]
  },
  {
   "cell_type": "code",
   "execution_count": 26,
   "metadata": {},
   "outputs": [],
   "source": [
    "batch_size = 32\n",
    "img_height = 180\n",
    "img_width = 180"
   ]
  },
  {
   "cell_type": "code",
   "execution_count": 41,
   "metadata": {},
   "outputs": [
    {
     "name": "stdout",
     "output_type": "stream",
     "text": [
      "Found 3670 files belonging to 5 classes.\n",
      "Using 2936 files for training.\n"
     ]
    }
   ],
   "source": [
    "train_ds = tf.keras.utils.image_dataset_from_directory(\n",
    "  data_dir,\n",
    "  validation_split=0.2,\n",
    "  subset=\"training\",\n",
    "  seed=123,\n",
    "  image_size=(img_height, img_width),\n",
    "  batch_size=batch_size)"
   ]
  },
  {
   "cell_type": "code",
   "execution_count": 42,
   "metadata": {},
   "outputs": [
    {
     "name": "stdout",
     "output_type": "stream",
     "text": [
      "Found 3670 files belonging to 5 classes.\n",
      "Using 734 files for validation.\n"
     ]
    }
   ],
   "source": [
    "val_ds = tf.keras.utils.image_dataset_from_directory(\n",
    "  data_dir,\n",
    "  validation_split=0.2,\n",
    "  subset=\"validation\",\n",
    "  seed=123,\n",
    "  image_size=(img_height, img_width),\n",
    "  batch_size=batch_size)"
   ]
  },
  {
   "cell_type": "code",
   "execution_count": 43,
   "metadata": {},
   "outputs": [
    {
     "name": "stdout",
     "output_type": "stream",
     "text": [
      "['daisy', 'dandelion', 'roses', 'sunflowers', 'tulips']\n"
     ]
    }
   ],
   "source": [
    "class_names = train_ds.class_names\n",
    "print(class_names)"
   ]
  },
  {
   "cell_type": "code",
   "execution_count": 44,
   "metadata": {},
   "outputs": [],
   "source": [
    "AUTOTUNE = tf.data.AUTOTUNE\n",
    "\n",
    "train_ds = train_ds.cache().shuffle(1000).prefetch(buffer_size=AUTOTUNE)\n",
    "val_ds = val_ds.cache().prefetch(buffer_size=AUTOTUNE)"
   ]
  },
  {
   "cell_type": "code",
   "execution_count": 45,
   "metadata": {},
   "outputs": [],
   "source": [
    "data_augmentation = keras.Sequential(\n",
    "  [\n",
    "    layers.RandomFlip(\"horizontal\",\n",
    "                      input_shape=(img_height,\n",
    "                                  img_width,\n",
    "                                  3)),\n",
    "    layers.RandomRotation(0.1),\n",
    "    layers.RandomZoom(0.1),\n",
    "  ]\n",
    ")"
   ]
  },
  {
   "cell_type": "code",
   "execution_count": 46,
   "metadata": {},
   "outputs": [
    {
     "name": "stdout",
     "output_type": "stream",
     "text": [
      "5\n"
     ]
    }
   ],
   "source": [
    "num_classes = len(class_names)\n",
    "print(num_classes)"
   ]
  },
  {
   "cell_type": "code",
   "execution_count": 47,
   "metadata": {},
   "outputs": [],
   "source": [
    "model = Sequential([\n",
    "  data_augmentation,\n",
    "  layers.Rescaling(1./255),\n",
    "  layers.Conv2D(16, 3, padding='same', activation='relu'),\n",
    "  layers.MaxPooling2D(),\n",
    "  layers.Conv2D(32, 3, padding='same', activation='relu'),\n",
    "  layers.MaxPooling2D(),\n",
    "  layers.Conv2D(64, 3, padding='same', activation='relu'),\n",
    "  layers.MaxPooling2D(),\n",
    "  layers.Dropout(0.2),\n",
    "  layers.Flatten(),\n",
    "  layers.Dense(128, activation='relu'),\n",
    "  layers.Dense(num_classes, name=\"outputs\")\n",
    "])"
   ]
  },
  {
   "cell_type": "code",
   "execution_count": 48,
   "metadata": {},
   "outputs": [],
   "source": [
    "model.compile(optimizer='adam',\n",
    "              loss=tf.keras.losses.SparseCategoricalCrossentropy(from_logits=True),\n",
    "              metrics=['accuracy'])"
   ]
  },
  {
   "cell_type": "code",
   "execution_count": 49,
   "metadata": {},
   "outputs": [],
   "source": [
    "checkpoint_path = \"Checkpoints/cp-{epoch:04d}.ckpt\""
   ]
  },
  {
   "cell_type": "code",
   "execution_count": 50,
   "metadata": {},
   "outputs": [],
   "source": [
    "cp_callback = tf.keras.callbacks.ModelCheckpoint(\n",
    "    filepath=checkpoint_path, \n",
    "    verbose=1, \n",
    "    save_weights_only=True,\n",
    "    save_freq=\"epoch\")"
   ]
  },
  {
   "cell_type": "code",
   "execution_count": 52,
   "metadata": {},
   "outputs": [
    {
     "name": "stdout",
     "output_type": "stream",
     "text": [
      "Epoch 1/35\n",
      "92/92 [==============================] - ETA: 0s - loss: 0.9646 - accuracy: 0.6196\n",
      "Epoch 1: saving model to Checkpoints\\cp-0001.ckpt\n",
      "92/92 [==============================] - 121s 1s/step - loss: 0.9646 - accuracy: 0.6196 - val_loss: 0.9679 - val_accuracy: 0.6213\n",
      "Epoch 2/35\n",
      "92/92 [==============================] - ETA: 0s - loss: 0.9020 - accuracy: 0.6427\n",
      "Epoch 2: saving model to Checkpoints\\cp-0002.ckpt\n",
      "92/92 [==============================] - 121s 1s/step - loss: 0.9020 - accuracy: 0.6427 - val_loss: 0.9997 - val_accuracy: 0.6213\n",
      "Epoch 3/35\n",
      "92/92 [==============================] - ETA: 0s - loss: 0.8699 - accuracy: 0.6662\n",
      "Epoch 3: saving model to Checkpoints\\cp-0003.ckpt\n",
      "92/92 [==============================] - 121s 1s/step - loss: 0.8699 - accuracy: 0.6662 - val_loss: 0.8882 - val_accuracy: 0.6553\n",
      "Epoch 4/35\n",
      "92/92 [==============================] - ETA: 0s - loss: 0.8105 - accuracy: 0.6884\n",
      "Epoch 4: saving model to Checkpoints\\cp-0004.ckpt\n",
      "92/92 [==============================] - 118s 1s/step - loss: 0.8105 - accuracy: 0.6884 - val_loss: 0.8513 - val_accuracy: 0.6730\n",
      "Epoch 5/35\n",
      "92/92 [==============================] - ETA: 0s - loss: 0.7814 - accuracy: 0.7054\n",
      "Epoch 5: saving model to Checkpoints\\cp-0005.ckpt\n",
      "92/92 [==============================] - 120s 1s/step - loss: 0.7814 - accuracy: 0.7054 - val_loss: 0.7999 - val_accuracy: 0.6948\n",
      "Epoch 6/35\n",
      "92/92 [==============================] - ETA: 0s - loss: 0.7527 - accuracy: 0.7142\n",
      "Epoch 6: saving model to Checkpoints\\cp-0006.ckpt\n",
      "92/92 [==============================] - 118s 1s/step - loss: 0.7527 - accuracy: 0.7142 - val_loss: 0.7958 - val_accuracy: 0.6935\n",
      "Epoch 7/35\n",
      "92/92 [==============================] - ETA: 0s - loss: 0.6816 - accuracy: 0.7371\n",
      "Epoch 7: saving model to Checkpoints\\cp-0007.ckpt\n",
      "92/92 [==============================] - 121s 1s/step - loss: 0.6816 - accuracy: 0.7371 - val_loss: 0.7680 - val_accuracy: 0.6975\n",
      "Epoch 8/35\n",
      "92/92 [==============================] - ETA: 0s - loss: 0.6660 - accuracy: 0.7541\n",
      "Epoch 8: saving model to Checkpoints\\cp-0008.ckpt\n",
      "92/92 [==============================] - 120s 1s/step - loss: 0.6660 - accuracy: 0.7541 - val_loss: 0.7204 - val_accuracy: 0.7193\n",
      "Epoch 9/35\n",
      "92/92 [==============================] - ETA: 0s - loss: 0.6381 - accuracy: 0.7670\n",
      "Epoch 9: saving model to Checkpoints\\cp-0009.ckpt\n",
      "92/92 [==============================] - 119s 1s/step - loss: 0.6381 - accuracy: 0.7670 - val_loss: 0.7922 - val_accuracy: 0.6894\n",
      "Epoch 10/35\n",
      "92/92 [==============================] - ETA: 0s - loss: 0.6086 - accuracy: 0.7667\n",
      "Epoch 10: saving model to Checkpoints\\cp-0010.ckpt\n",
      "92/92 [==============================] - 120s 1s/step - loss: 0.6086 - accuracy: 0.7667 - val_loss: 0.7738 - val_accuracy: 0.7112\n",
      "Epoch 11/35\n",
      "92/92 [==============================] - ETA: 0s - loss: 0.6018 - accuracy: 0.7738\n",
      "Epoch 11: saving model to Checkpoints\\cp-0011.ckpt\n",
      "92/92 [==============================] - 121s 1s/step - loss: 0.6018 - accuracy: 0.7738 - val_loss: 0.7629 - val_accuracy: 0.7125\n",
      "Epoch 12/35\n",
      "92/92 [==============================] - ETA: 0s - loss: 0.5708 - accuracy: 0.7922\n",
      "Epoch 12: saving model to Checkpoints\\cp-0012.ckpt\n",
      "92/92 [==============================] - 123s 1s/step - loss: 0.5708 - accuracy: 0.7922 - val_loss: 0.7094 - val_accuracy: 0.7452\n",
      "Epoch 13/35\n",
      "92/92 [==============================] - ETA: 0s - loss: 0.5415 - accuracy: 0.7936\n",
      "Epoch 13: saving model to Checkpoints\\cp-0013.ckpt\n",
      "92/92 [==============================] - 123s 1s/step - loss: 0.5415 - accuracy: 0.7936 - val_loss: 0.7172 - val_accuracy: 0.7248\n",
      "Epoch 14/35\n",
      "92/92 [==============================] - ETA: 0s - loss: 0.5306 - accuracy: 0.8086\n",
      "Epoch 14: saving model to Checkpoints\\cp-0014.ckpt\n",
      "92/92 [==============================] - 121s 1s/step - loss: 0.5306 - accuracy: 0.8086 - val_loss: 0.7160 - val_accuracy: 0.7193\n",
      "Epoch 15/35\n",
      "92/92 [==============================] - ETA: 0s - loss: 0.4897 - accuracy: 0.8198\n",
      "Epoch 15: saving model to Checkpoints\\cp-0015.ckpt\n",
      "92/92 [==============================] - 122s 1s/step - loss: 0.4897 - accuracy: 0.8198 - val_loss: 0.7053 - val_accuracy: 0.7452\n",
      "Epoch 16/35\n",
      "92/92 [==============================] - ETA: 0s - loss: 0.4744 - accuracy: 0.8185\n",
      "Epoch 16: saving model to Checkpoints\\cp-0016.ckpt\n",
      "92/92 [==============================] - 120s 1s/step - loss: 0.4744 - accuracy: 0.8185 - val_loss: 0.7740 - val_accuracy: 0.7289\n",
      "Epoch 17/35\n",
      "92/92 [==============================] - ETA: 0s - loss: 0.4581 - accuracy: 0.8365\n",
      "Epoch 17: saving model to Checkpoints\\cp-0017.ckpt\n",
      "92/92 [==============================] - 122s 1s/step - loss: 0.4581 - accuracy: 0.8365 - val_loss: 0.7896 - val_accuracy: 0.7316\n",
      "Epoch 18/35\n",
      "92/92 [==============================] - ETA: 0s - loss: 0.4580 - accuracy: 0.8307\n",
      "Epoch 18: saving model to Checkpoints\\cp-0018.ckpt\n",
      "92/92 [==============================] - 122s 1s/step - loss: 0.4580 - accuracy: 0.8307 - val_loss: 0.6792 - val_accuracy: 0.7452\n",
      "Epoch 19/35\n",
      "92/92 [==============================] - ETA: 0s - loss: 0.4100 - accuracy: 0.8488\n",
      "Epoch 19: saving model to Checkpoints\\cp-0019.ckpt\n",
      "92/92 [==============================] - 122s 1s/step - loss: 0.4100 - accuracy: 0.8488 - val_loss: 0.8522 - val_accuracy: 0.7466\n",
      "Epoch 20/35\n",
      "92/92 [==============================] - ETA: 0s - loss: 0.3861 - accuracy: 0.8563\n",
      "Epoch 20: saving model to Checkpoints\\cp-0020.ckpt\n",
      "92/92 [==============================] - 119s 1s/step - loss: 0.3861 - accuracy: 0.8563 - val_loss: 0.7987 - val_accuracy: 0.7398\n",
      "Epoch 21/35\n",
      "92/92 [==============================] - ETA: 0s - loss: 0.4026 - accuracy: 0.8515\n",
      "Epoch 21: saving model to Checkpoints\\cp-0021.ckpt\n",
      "92/92 [==============================] - 123s 1s/step - loss: 0.4026 - accuracy: 0.8515 - val_loss: 0.7262 - val_accuracy: 0.7507\n",
      "Epoch 22/35\n",
      "92/92 [==============================] - ETA: 0s - loss: 0.3664 - accuracy: 0.8617\n",
      "Epoch 22: saving model to Checkpoints\\cp-0022.ckpt\n",
      "92/92 [==============================] - 119s 1s/step - loss: 0.3664 - accuracy: 0.8617 - val_loss: 0.7946 - val_accuracy: 0.7384\n",
      "Epoch 23/35\n",
      "92/92 [==============================] - ETA: 0s - loss: 0.3295 - accuracy: 0.8781\n",
      "Epoch 23: saving model to Checkpoints\\cp-0023.ckpt\n",
      "92/92 [==============================] - 121s 1s/step - loss: 0.3295 - accuracy: 0.8781 - val_loss: 0.7777 - val_accuracy: 0.7507\n",
      "Epoch 24/35\n",
      "92/92 [==============================] - ETA: 0s - loss: 0.3432 - accuracy: 0.8774\n",
      "Epoch 24: saving model to Checkpoints\\cp-0024.ckpt\n",
      "92/92 [==============================] - 120s 1s/step - loss: 0.3432 - accuracy: 0.8774 - val_loss: 0.8492 - val_accuracy: 0.7275\n",
      "Epoch 25/35\n",
      "92/92 [==============================] - ETA: 0s - loss: 0.3288 - accuracy: 0.8787\n",
      "Epoch 25: saving model to Checkpoints\\cp-0025.ckpt\n",
      "92/92 [==============================] - 122s 1s/step - loss: 0.3288 - accuracy: 0.8787 - val_loss: 0.8275 - val_accuracy: 0.7371\n",
      "Epoch 26/35\n",
      "92/92 [==============================] - ETA: 0s - loss: 0.2863 - accuracy: 0.8917\n",
      "Epoch 26: saving model to Checkpoints\\cp-0026.ckpt\n",
      "92/92 [==============================] - 120s 1s/step - loss: 0.2863 - accuracy: 0.8917 - val_loss: 0.8334 - val_accuracy: 0.7629\n",
      "Epoch 27/35\n",
      "92/92 [==============================] - ETA: 0s - loss: 0.2807 - accuracy: 0.8978\n",
      "Epoch 27: saving model to Checkpoints\\cp-0027.ckpt\n",
      "92/92 [==============================] - 120s 1s/step - loss: 0.2807 - accuracy: 0.8978 - val_loss: 0.8316 - val_accuracy: 0.7711\n",
      "Epoch 28/35\n",
      "92/92 [==============================] - ETA: 0s - loss: 0.2780 - accuracy: 0.9040\n",
      "Epoch 28: saving model to Checkpoints\\cp-0028.ckpt\n",
      "92/92 [==============================] - 121s 1s/step - loss: 0.2780 - accuracy: 0.9040 - val_loss: 0.8515 - val_accuracy: 0.7371\n",
      "Epoch 29/35\n",
      "92/92 [==============================] - ETA: 0s - loss: 0.2895 - accuracy: 0.8954\n",
      "Epoch 29: saving model to Checkpoints\\cp-0029.ckpt\n",
      "92/92 [==============================] - 121s 1s/step - loss: 0.2895 - accuracy: 0.8954 - val_loss: 0.8255 - val_accuracy: 0.7534\n",
      "Epoch 30/35\n",
      "92/92 [==============================] - ETA: 0s - loss: 0.2723 - accuracy: 0.8968\n",
      "Epoch 30: saving model to Checkpoints\\cp-0030.ckpt\n",
      "92/92 [==============================] - 119s 1s/step - loss: 0.2723 - accuracy: 0.8968 - val_loss: 0.8274 - val_accuracy: 0.7507\n",
      "Epoch 31/35\n",
      "92/92 [==============================] - ETA: 0s - loss: 0.2217 - accuracy: 0.9189\n",
      "Epoch 31: saving model to Checkpoints\\cp-0031.ckpt\n",
      "92/92 [==============================] - 123s 1s/step - loss: 0.2217 - accuracy: 0.9189 - val_loss: 1.0207 - val_accuracy: 0.7343\n",
      "Epoch 32/35\n",
      "92/92 [==============================] - ETA: 0s - loss: 0.2308 - accuracy: 0.9176\n",
      "Epoch 32: saving model to Checkpoints\\cp-0032.ckpt\n",
      "92/92 [==============================] - 120s 1s/step - loss: 0.2308 - accuracy: 0.9176 - val_loss: 0.8941 - val_accuracy: 0.7589\n",
      "Epoch 33/35\n",
      "92/92 [==============================] - ETA: 0s - loss: 0.2419 - accuracy: 0.9176\n",
      "Epoch 33: saving model to Checkpoints\\cp-0033.ckpt\n",
      "92/92 [==============================] - 121s 1s/step - loss: 0.2419 - accuracy: 0.9176 - val_loss: 0.9235 - val_accuracy: 0.7548\n",
      "Epoch 34/35\n",
      "92/92 [==============================] - ETA: 0s - loss: 0.2145 - accuracy: 0.9244\n",
      "Epoch 34: saving model to Checkpoints\\cp-0034.ckpt\n",
      "92/92 [==============================] - 120s 1s/step - loss: 0.2145 - accuracy: 0.9244 - val_loss: 0.9743 - val_accuracy: 0.7643\n",
      "Epoch 35/35\n",
      "92/92 [==============================] - ETA: 0s - loss: 0.2077 - accuracy: 0.9281\n",
      "Epoch 35: saving model to Checkpoints\\cp-0035.ckpt\n",
      "92/92 [==============================] - 123s 1s/step - loss: 0.2077 - accuracy: 0.9281 - val_loss: 0.9481 - val_accuracy: 0.7752\n"
     ]
    }
   ],
   "source": [
    "epochs = 35\n",
    "history = model.fit(\n",
    "  train_ds,\n",
    "  validation_data=val_ds,\n",
    "  epochs=epochs,\n",
    "  callbacks=[cp_callback]\n",
    ")"
   ]
  },
  {
   "cell_type": "code",
   "execution_count": 53,
   "metadata": {},
   "outputs": [
    {
     "name": "stderr",
     "output_type": "stream",
     "text": [
      "WARNING:absl:Found untraced functions such as _jit_compiled_convolution_op, _jit_compiled_convolution_op, _jit_compiled_convolution_op while saving (showing 3 of 3). These functions will not be directly callable after loading.\n"
     ]
    },
    {
     "name": "stdout",
     "output_type": "stream",
     "text": [
      "INFO:tensorflow:Assets written to: ./modelTest/assets\n"
     ]
    },
    {
     "name": "stderr",
     "output_type": "stream",
     "text": [
      "INFO:tensorflow:Assets written to: ./modelTest/assets\n"
     ]
    }
   ],
   "source": [
    "model.save(\"./modelTest/\")"
   ]
  },
  {
   "cell_type": "code",
   "execution_count": 58,
   "metadata": {},
   "outputs": [
    {
     "data": {
      "image/png": "[encoded data removed]",
      "text/plain": [
       "<Figure size 800x800 with 2 Axes>"
      ]
     },
     "metadata": {},
     "output_type": "display_data"
    }
   ],
   "source": [
    "acc = history.history['accuracy']\n",
    "val_acc = history.history['val_accuracy']\n",
    "\n",
    "loss = history.history['loss']\n",
    "val_loss = history.history['val_loss']\n",
    "\n",
    "epochs_range = range(epochs)\n",
    "\n",
    "plt.figure(figsize=(8, 8))\n",
    "plt.subplot(1, 2, 1)\n",
    "plt.plot(epochs_range, acc, label='Training Accuracy')\n",
    "plt.plot(epochs_range, val_acc, label='Validation Accuracy')\n",
    "plt.legend(loc='lower right')\n",
    "plt.title('Training and Validation Accuracy')\n",
    "\n",
    "plt.subplot(1, 2, 2)\n",
    "plt.plot(epochs_range, loss, label='Training Loss')\n",
    "plt.plot(epochs_range, val_loss, label='Validation Loss')\n",
    "plt.legend(loc='upper right')\n",
    "plt.title('Training and Validation Loss')\n",
    "plt.show()"
   ]
  },
  {
   "cell_type": "code",
   "execution_count": 62,
   "metadata": {},
   "outputs": [
    {
     "name": "stdout",
     "output_type": "stream",
     "text": [
      "1/1 [==============================] - 0s 92ms/step\n",
      "This image most likely belongs to tulips with a 99.96 percent confidence.\n"
     ]
    }
   ],
   "source": [
    "sunflower_path = \"Predictions/tulip.jpg\"\n",
    "\n",
    "img = tf.keras.utils.load_img(\n",
    "    sunflower_path, target_size=(img_height, img_width)\n",
    ")\n",
    "img_array = tf.keras.utils.img_to_array(img)\n",
    "img_array = tf.expand_dims(img_array, 0) # Create a batch\n",
    "\n",
    "predictions = model.predict(img_array)\n",
    "score = tf.nn.softmax(predictions[0])\n",
    "\n",
    "print(\n",
    "    \"This image most likely belongs to {} with a {:.2f} percent confidence.\"\n",
    "    .format(class_names[np.argmax(score)], 100 * np.max(score))\n",
    ")"
   ]
  }
 ],
 "metadata": {
  "kernelspec": {
   "display_name": "Python 3.10.5 64-bit",
   "language": "python",
   "name": "python3"
  },
  "language_info": {
   "codemirror_mode": {
    "name": "ipython",
    "version": 3
   },
   "file_extension": ".py",
   "mimetype": "text/x-python",
   "name": "python",
   "nbconvert_exporter": "python",
   "pygments_lexer": "ipython3",
   "version": "3.10.5"
  },
  "orig_nbformat": 4,
  "vscode": {
   "interpreter": {
    "hash": "0637dabcafe78c26ecb06f1d7bd4ad6b10f30890c45624e21106886b49e792fd"
   }
  }
 },
 "nbformat": 4,
 "nbformat_minor": 2
}
